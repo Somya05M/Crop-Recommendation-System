{
  "nbformat": 4,
  "nbformat_minor": 0,
  "metadata": {
    "colab": {
      "provenance": [],
      "authorship_tag": "ABX9TyOVQpus5sXatDbodiXkN4pR",
      "include_colab_link": true
    },
    "kernelspec": {
      "name": "python3",
      "display_name": "Python 3"
    },
    "language_info": {
      "name": "python"
    }
  },
  "cells": [
    {
      "cell_type": "markdown",
      "metadata": {
        "id": "view-in-github",
        "colab_type": "text"
      },
      "source": [
        "<a href=\"https://colab.research.google.com/github/nisharathod231/Sustainable-Agriculture-Practices-Recommender/blob/main/CropDatasetGeneration.ipynb\" target=\"_parent\"><img src=\"https://colab.research.google.com/assets/colab-badge.svg\" alt=\"Open In Colab\"/></a>"
      ]
    },
    {
      "cell_type": "code",
      "source": [
        "import pandas as pd\n",
        "import numpy as np"
      ],
      "metadata": {
        "id": "FwSYq1PekG_P"
      },
      "execution_count": 1,
      "outputs": []
    },
    {
      "cell_type": "code",
      "execution_count": 2,
      "metadata": {
        "id": "dOkEDJSCi7Mc"
      },
      "outputs": [],
      "source": [
        "df = pd.read_csv('/content/Crop_recommendation_kaggle.csv')"
      ]
    },
    {
      "cell_type": "code",
      "source": [
        "unique_crop_labels = df['label'].unique()\n",
        "\n",
        "print(unique_crop_labels)"
      ],
      "metadata": {
        "colab": {
          "base_uri": "https://localhost:8080/"
        },
        "id": "nBn3lk5PkFjK",
        "outputId": "acce987b-fee5-47c3-8094-dd172b2ae168"
      },
      "execution_count": 3,
      "outputs": [
        {
          "output_type": "stream",
          "name": "stdout",
          "text": [
            "['rice' 'maize' 'chickpea' 'kidneybeans' 'pigeonpeas' 'mothbeans'\n",
            " 'mungbean' 'blackgram' 'lentil' 'pomegranate' 'banana' 'mango' 'grapes'\n",
            " 'watermelon' 'muskmelon' 'apple' 'orange' 'papaya' 'coconut' 'cotton'\n",
            " 'jute' 'coffee']\n"
          ]
        }
      ]
    },
    {
      "cell_type": "code",
      "source": [
        "numerical_columns = df.select_dtypes(include=['int', 'float'])\n",
        "\n",
        "numerical_means = numerical_columns.mean()\n",
        "\n",
        "numerical_stddev = numerical_columns.std()"
      ],
      "metadata": {
        "id": "HB8uEaJNkPN-"
      },
      "execution_count": 4,
      "outputs": []
    },
    {
      "cell_type": "code",
      "source": [
        "print(\"Means for Numerical Columns:\")\n",
        "print(numerical_means)\n",
        "\n",
        "print(\"\\nStandard Deviations for Numerical Columns:\")\n",
        "print(numerical_stddev)"
      ],
      "metadata": {
        "colab": {
          "base_uri": "https://localhost:8080/"
        },
        "id": "SuN91qkTlXf4",
        "outputId": "58998193-c92c-4f07-8f9a-9c3a99029a6e"
      },
      "execution_count": 5,
      "outputs": [
        {
          "output_type": "stream",
          "name": "stdout",
          "text": [
            "Means for Numerical Columns:\n",
            "N               50.551818\n",
            "P               53.362727\n",
            "K               48.149091\n",
            "temperature     25.616244\n",
            "humidity        71.481779\n",
            "ph               6.469480\n",
            "rainfall       103.463655\n",
            "dtype: float64\n",
            "\n",
            "Standard Deviations for Numerical Columns:\n",
            "N              36.917334\n",
            "P              32.985883\n",
            "K              50.647931\n",
            "temperature     5.063749\n",
            "humidity       22.263812\n",
            "ph              0.773938\n",
            "rainfall       54.958389\n",
            "dtype: float64\n"
          ]
        }
      ]
    },
    {
      "cell_type": "code",
      "source": [
        "# custom_labels = [\n",
        "#     'Rice', 'Wheat', 'Maize (corn)', 'Sorghum', 'Pearl millet', 'Finger millet', 'Foxtail millet',\n",
        "#     'Chickpeas', 'Pigeon peas', 'Lentils', 'Mung beans', 'Groundnut', 'Soybean', 'Mustard', 'Sesame',\n",
        "#     'Sunflower', 'Sugarcane', 'Cotton', 'Jute', 'Tea', 'Coffee', 'Turmeric', 'Chili', 'Cumin', 'Coriander',\n",
        "#     'Cardamom', 'Mangoes', 'Bananas', 'Citrus fruits', 'Potatoes', 'Tomatoes', 'Onions', 'Garlic', 'Eggplant (Brinjal)',\n",
        "#     'Okra (Ladyfinger)', 'Cauliflower', 'Cabbage', 'Carrots', 'Spinach', 'Radish', 'Turnips', 'Lettuce', 'Cucumbers',\n",
        "#     'Pumpkins', 'Gourds', 'Watermelons', 'Muskmelons', 'Papayas', 'Guavas', 'Apples', 'Pears', 'Grapes', 'Strawberries',\n",
        "#     'Pomegranates', 'Pineapples', 'Berries', 'Cashew nuts', 'Almonds', 'Pistachios', 'Walnuts', 'Coconut', 'Betel nuts',\n",
        "#     'Saffron', 'Black pepper', 'Vanilla', 'Cocoa (for chocolate)', 'Tobacco', 'Opium poppy (for pharmaceuticals)',\n",
        "#     'Rubber', 'Silk (from silkworms)'\n",
        "# ]\n",
        "\n",
        "# existing_labels = df['label'].unique()\n",
        "\n",
        "# custom_labels = [label for label in custom_labels if label not in existing_labels]\n",
        "\n",
        "# print(custom_labels)"
      ],
      "metadata": {
        "id": "BZAZXZTElpNo"
      },
      "execution_count": 6,
      "outputs": []
    },
    {
      "cell_type": "code",
      "source": [
        "custom_labels = [\n",
        "    'Rice', 'Wheat', 'Maize (corn)', 'Sorghum', 'Pearl millet', 'Finger millet',\n",
        "    'Foxtail millet', 'Chickpeas', 'Pigeon peas', 'Lentils', 'Mung beans', 'Groundnut',\n",
        "    'Soybean', 'Mustard', 'Sesame', 'Sunflower', 'Sugarcane', 'Cotton', 'Jute', 'Tea',\n",
        "    'Coffee', 'Turmeric', 'Chili', 'Cumin', 'Coriander', 'Cardamom', 'Mangoes',\n",
        "    'Bananas', 'Citrus fruits', 'Potatoes', 'Tomatoes', 'Onions', 'Garlic',\n",
        "    'Eggplant (Brinjal)', 'Okra (Ladyfinger)', 'Cauliflower', 'Cabbage', 'Carrots',\n",
        "    'Spinach', 'Radish', 'Turnips', 'Lettuce', 'Cucumbers', 'Pumpkins', 'Gourds',\n",
        "    'Watermelons', 'Muskmelons', 'Papayas', 'Guavas', 'Apples', 'Pears', 'Grapes',\n",
        "    'Strawberries', 'Pomegranates', 'Pineapples', 'Berries', 'Cashew nuts', 'Almonds',\n",
        "    'Pistachios', 'Walnuts', 'Coconut', 'Betel nuts', 'Saffron', 'Black pepper',\n",
        "    'Vanilla', 'Cocoa (for chocolate)', 'Tobacco', 'Opium poppy (for pharmaceuticals)',\n",
        "    'Rubber', 'Silk (from silkworms)'\n",
        "\n",
        "]\n",
        "\n",
        "\n",
        "existing_labels = df['label'].str.lower().unique()\n",
        "\n",
        "custom_labels = [label for label in custom_labels if label.lower() not in existing_labels]\n",
        "print(custom_labels)"
      ],
      "metadata": {
        "colab": {
          "base_uri": "https://localhost:8080/"
        },
        "id": "4UBW9O5mnJJa",
        "outputId": "305caba0-da3b-429f-9b30-3ad04efeb1de"
      },
      "execution_count": 7,
      "outputs": [
        {
          "output_type": "stream",
          "name": "stdout",
          "text": [
            "['Wheat', 'Maize (corn)', 'Sorghum', 'Pearl millet', 'Finger millet', 'Foxtail millet', 'Chickpeas', 'Pigeon peas', 'Lentils', 'Mung beans', 'Groundnut', 'Soybean', 'Mustard', 'Sesame', 'Sunflower', 'Sugarcane', 'Tea', 'Turmeric', 'Chili', 'Cumin', 'Coriander', 'Cardamom', 'Mangoes', 'Bananas', 'Citrus fruits', 'Potatoes', 'Tomatoes', 'Onions', 'Garlic', 'Eggplant (Brinjal)', 'Okra (Ladyfinger)', 'Cauliflower', 'Cabbage', 'Carrots', 'Spinach', 'Radish', 'Turnips', 'Lettuce', 'Cucumbers', 'Pumpkins', 'Gourds', 'Watermelons', 'Muskmelons', 'Papayas', 'Guavas', 'Apples', 'Pears', 'Strawberries', 'Pomegranates', 'Pineapples', 'Berries', 'Cashew nuts', 'Almonds', 'Pistachios', 'Walnuts', 'Betel nuts', 'Saffron', 'Black pepper', 'Vanilla', 'Cocoa (for chocolate)', 'Tobacco', 'Opium poppy (for pharmaceuticals)', 'Rubber', 'Silk (from silkworms)']\n"
          ]
        }
      ]
    },
    {
      "cell_type": "code",
      "source": [
        "crop_counts = df['label'].value_counts()\n",
        "\n",
        "print(\"Number of entries for each crop:\")\n",
        "print(crop_counts)"
      ],
      "metadata": {
        "colab": {
          "base_uri": "https://localhost:8080/"
        },
        "id": "5_ib5RHEobsC",
        "outputId": "a0606f9d-5075-429a-875c-e2371df261fe"
      },
      "execution_count": 8,
      "outputs": [
        {
          "output_type": "stream",
          "name": "stdout",
          "text": [
            "Number of entries for each crop:\n",
            "label\n",
            "rice           100\n",
            "maize          100\n",
            "jute           100\n",
            "cotton         100\n",
            "coconut        100\n",
            "papaya         100\n",
            "orange         100\n",
            "apple          100\n",
            "muskmelon      100\n",
            "watermelon     100\n",
            "grapes         100\n",
            "mango          100\n",
            "banana         100\n",
            "pomegranate    100\n",
            "lentil         100\n",
            "blackgram      100\n",
            "mungbean       100\n",
            "mothbeans      100\n",
            "pigeonpeas     100\n",
            "kidneybeans    100\n",
            "chickpea       100\n",
            "coffee         100\n",
            "Name: count, dtype: int64\n"
          ]
        }
      ]
    },
    {
      "cell_type": "code",
      "source": [
        "num_entries_per_crop = 100\n",
        "\n",
        "# Generate synthetic data for each crop\n",
        "synthetic_data = {}\n",
        "for feature in numerical_means.keys():\n",
        "    synthetic_data[feature] = []\n",
        "    for label in custom_labels:\n",
        "        synthetic_data[feature].extend(np.random.normal(\n",
        "            loc=numerical_means[feature],\n",
        "            scale=numerical_stddev[feature],\n",
        "            size=num_entries_per_crop\n",
        "        ))\n",
        "synthetic_df = pd.DataFrame(synthetic_data)"
      ],
      "metadata": {
        "id": "yD240WdhnbSh"
      },
      "execution_count": 9,
      "outputs": []
    },
    {
      "cell_type": "code",
      "source": [
        "synthetic_df['label'] = np.repeat(custom_labels, num_entries_per_crop)\n",
        "\n",
        "combined_df = pd.concat([df, synthetic_df])\n",
        "\n",
        "combined_df.reset_index(drop=True, inplace=True)\n",
        "\n",
        "combined_df.to_csv('Cropdata.csv', index=False)\n",
        "\n",
        "# Display the first few rows of the combined DataFrame\n",
        "print(combined_df.head())"
      ],
      "metadata": {
        "colab": {
          "base_uri": "https://localhost:8080/"
        },
        "id": "lmku58H5qdX4",
        "outputId": "872bd2d6-b7df-44f7-f000-848e023891a1"
      },
      "execution_count": 10,
      "outputs": [
        {
          "output_type": "stream",
          "name": "stdout",
          "text": [
            "      N     P     K  temperature   humidity        ph    rainfall label\n",
            "0  90.0  42.0  43.0    20.879744  82.002744  6.502985  202.935536  rice\n",
            "1  85.0  58.0  41.0    21.770462  80.319644  7.038096  226.655537  rice\n",
            "2  60.0  55.0  44.0    23.004459  82.320763  7.840207  263.964248  rice\n",
            "3  74.0  35.0  40.0    26.491096  80.158363  6.980401  242.864034  rice\n",
            "4  78.0  42.0  42.0    20.130175  81.604873  7.628473  262.717340  rice\n"
          ]
        }
      ]
    },
    {
      "cell_type": "code",
      "source": [
        "unique_crop_labels = synthetic_df['label'].unique()\n",
        "\n",
        "print(unique_crop_labels)"
      ],
      "metadata": {
        "colab": {
          "base_uri": "https://localhost:8080/"
        },
        "id": "Uvc-2sNDqyFa",
        "outputId": "f39b0fba-b117-40c4-f976-a493738040e4"
      },
      "execution_count": 11,
      "outputs": [
        {
          "output_type": "stream",
          "name": "stdout",
          "text": [
            "['Wheat' 'Maize (corn)' 'Sorghum' 'Pearl millet' 'Finger millet'\n",
            " 'Foxtail millet' 'Chickpeas' 'Pigeon peas' 'Lentils' 'Mung beans'\n",
            " 'Groundnut' 'Soybean' 'Mustard' 'Sesame' 'Sunflower' 'Sugarcane' 'Tea'\n",
            " 'Turmeric' 'Chili' 'Cumin' 'Coriander' 'Cardamom' 'Mangoes' 'Bananas'\n",
            " 'Citrus fruits' 'Potatoes' 'Tomatoes' 'Onions' 'Garlic'\n",
            " 'Eggplant (Brinjal)' 'Okra (Ladyfinger)' 'Cauliflower' 'Cabbage'\n",
            " 'Carrots' 'Spinach' 'Radish' 'Turnips' 'Lettuce' 'Cucumbers' 'Pumpkins'\n",
            " 'Gourds' 'Watermelons' 'Muskmelons' 'Papayas' 'Guavas' 'Apples' 'Pears'\n",
            " 'Strawberries' 'Pomegranates' 'Pineapples' 'Berries' 'Cashew nuts'\n",
            " 'Almonds' 'Pistachios' 'Walnuts' 'Betel nuts' 'Saffron' 'Black pepper'\n",
            " 'Vanilla' 'Cocoa (for chocolate)' 'Tobacco'\n",
            " 'Opium poppy (for pharmaceuticals)' 'Rubber' 'Silk (from silkworms)']\n"
          ]
        }
      ]
    },
    {
      "cell_type": "code",
      "source": [
        "print(\"Number of rows:\", combined_df.shape[0])\n",
        "print(\"Number of columns:\", combined_df.shape[1])\n",
        "\n",
        "print(\"\\nData types:\")\n",
        "print(combined_df.dtypes)\n",
        "\n",
        "print(\"\\nSummary statistics for numerical columns:\")\n",
        "print(combined_df.describe())\n",
        "\n",
        "print(\"\\nFirst few rows:\")\n",
        "print(combined_df.head())\n",
        "\n",
        "unique_crop_labels = combined_df['label'].unique()\n",
        "\n",
        "print(unique_crop_labels)"
      ],
      "metadata": {
        "colab": {
          "base_uri": "https://localhost:8080/"
        },
        "id": "_GsgY3gjq6dJ",
        "outputId": "9a4c586b-b1b2-4fc7-f499-a861fa2683e6"
      },
      "execution_count": 12,
      "outputs": [
        {
          "output_type": "stream",
          "name": "stdout",
          "text": [
            "Number of rows: 8600\n",
            "Number of columns: 8\n",
            "\n",
            "Data types:\n",
            "N              float64\n",
            "P              float64\n",
            "K              float64\n",
            "temperature    float64\n",
            "humidity       float64\n",
            "ph             float64\n",
            "rainfall       float64\n",
            "label           object\n",
            "dtype: object\n",
            "\n",
            "Summary statistics for numerical columns:\n",
            "                 N            P            K  temperature     humidity  \\\n",
            "count  8600.000000  8600.000000  8600.000000  8600.000000  8600.000000   \n",
            "mean     50.716994    53.612291    47.662302    25.646450    71.735360   \n",
            "std      36.954326    32.641244    51.423722     5.077830    22.125582   \n",
            "min     -86.959559   -52.703852  -126.741272     8.151957   -33.942649   \n",
            "25%      24.000000    30.145898    18.000000    22.332778    57.435415   \n",
            "50%      47.935902    53.233476    41.996094    25.692026    73.309625   \n",
            "75%      78.290126    73.644915    75.002343    28.951639    87.576113   \n",
            "max     172.453792   191.708190   239.642900    43.675493   150.730265   \n",
            "\n",
            "                ph     rainfall  \n",
            "count  8600.000000  8600.000000  \n",
            "mean      6.464369   103.221835  \n",
            "std       0.784081    55.134311  \n",
            "min       3.504752   -80.993095  \n",
            "25%       5.931967    65.565456  \n",
            "50%       6.452141   100.286963  \n",
            "75%       6.973902   137.846636  \n",
            "max       9.935091   334.548836  \n",
            "\n",
            "First few rows:\n",
            "      N     P     K  temperature   humidity        ph    rainfall label\n",
            "0  90.0  42.0  43.0    20.879744  82.002744  6.502985  202.935536  rice\n",
            "1  85.0  58.0  41.0    21.770462  80.319644  7.038096  226.655537  rice\n",
            "2  60.0  55.0  44.0    23.004459  82.320763  7.840207  263.964248  rice\n",
            "3  74.0  35.0  40.0    26.491096  80.158363  6.980401  242.864034  rice\n",
            "4  78.0  42.0  42.0    20.130175  81.604873  7.628473  262.717340  rice\n",
            "['rice' 'maize' 'chickpea' 'kidneybeans' 'pigeonpeas' 'mothbeans'\n",
            " 'mungbean' 'blackgram' 'lentil' 'pomegranate' 'banana' 'mango' 'grapes'\n",
            " 'watermelon' 'muskmelon' 'apple' 'orange' 'papaya' 'coconut' 'cotton'\n",
            " 'jute' 'coffee' 'Wheat' 'Maize (corn)' 'Sorghum' 'Pearl millet'\n",
            " 'Finger millet' 'Foxtail millet' 'Chickpeas' 'Pigeon peas' 'Lentils'\n",
            " 'Mung beans' 'Groundnut' 'Soybean' 'Mustard' 'Sesame' 'Sunflower'\n",
            " 'Sugarcane' 'Tea' 'Turmeric' 'Chili' 'Cumin' 'Coriander' 'Cardamom'\n",
            " 'Mangoes' 'Bananas' 'Citrus fruits' 'Potatoes' 'Tomatoes' 'Onions'\n",
            " 'Garlic' 'Eggplant (Brinjal)' 'Okra (Ladyfinger)' 'Cauliflower' 'Cabbage'\n",
            " 'Carrots' 'Spinach' 'Radish' 'Turnips' 'Lettuce' 'Cucumbers' 'Pumpkins'\n",
            " 'Gourds' 'Watermelons' 'Muskmelons' 'Papayas' 'Guavas' 'Apples' 'Pears'\n",
            " 'Strawberries' 'Pomegranates' 'Pineapples' 'Berries' 'Cashew nuts'\n",
            " 'Almonds' 'Pistachios' 'Walnuts' 'Betel nuts' 'Saffron' 'Black pepper'\n",
            " 'Vanilla' 'Cocoa (for chocolate)' 'Tobacco'\n",
            " 'Opium poppy (for pharmaceuticals)' 'Rubber' 'Silk (from silkworms)']\n"
          ]
        }
      ]
    },
    {
      "cell_type": "code",
      "source": [
        "crops = ['rice', 'maize', 'chickpea', 'kidneybeans', 'pigeonpeas', 'mothbeans', 'mungbean', 'blackgram', 'lentil', 'pomegranate', 'banana', 'mango', 'grapes', 'watermelon', 'muskmelon', 'apple', 'orange', 'papaya', 'coconut', 'cotton', 'jute', 'coffee', 'Wheat', 'Maize (corn)', 'Sorghum', 'Pearl millet', 'Finger millet', 'Foxtail millet', 'Chickpeas', 'Pigeon peas', 'Lentils', 'Mung beans', 'Groundnut', 'Soybean', 'Mustard', 'Sesame', 'Sunflower', 'Sugarcane', 'Tea', 'Turmeric', 'Chili', 'Cumin', 'Coriander', 'Cardamom', 'Mangoes', 'Bananas', 'Citrus fruits', 'Potatoes', 'Tomatoes', 'Onions', 'Garlic', 'Eggplant (Brinjal)', 'Okra (Ladyfinger)', 'Cauliflower', 'Cabbage', 'Carrots', 'Spinach', 'Radish', 'Turnips', 'Lettuce', 'Cucumbers', 'Pumpkins', 'Gourds', 'Watermelons', 'Muskmelons', 'Papayas', 'Guavas', 'Apples', 'Pears', 'Strawberries', 'Pomegranates', 'Pineapples', 'Berries', 'Cashew nuts', 'Almonds', 'Pistachios', 'Walnuts', 'Betel nuts', 'Saffron', 'Black pepper', 'Vanilla', 'Cocoa (for chocolate)', 'Tobacco', 'Opium poppy (for pharmaceuticals)', 'Rubber', 'Silk (from silkworms)']\n",
        "\n",
        "families = {\n",
        "    \"Cereals\": ['rice', 'Wheat', 'Maize (corn)', 'Sorghum', 'Pearl millet', 'Finger millet', 'Foxtail millet'],\n",
        "    \"Pulses\": ['Chickpeas', 'Pigeon peas', 'Lentils', 'Mung beans', 'Blackgram', 'Soybean'],\n",
        "    \"Oilseeds\": ['Groundnut', 'Mustard', 'Sesame', 'Sunflower'],\n",
        "    \"Sugarcane\": ['Sugarcane'],\n",
        "    \"Beverages\": ['Tea', 'Coffee'],\n",
        "    \"Spices\": ['Turmeric', 'Chili', 'Cumin', 'Coriander', 'Cardamom', 'Black pepper', 'Vanilla'],\n",
        "    \"Fruits\": ['Pomegranate', 'Bananas', 'Mangoes', 'Grapes', 'Apple', 'Orange', 'Papaya', 'Coconut', 'Guavas', 'Papayas', 'Apples', 'Pears', 'Strawberries', 'Pineapples', 'Berries'],\n",
        "    \"Vegetables\": ['Potatoes', 'Tomatoes', 'Onions', 'Garlic', 'Eggplant (Brinjal)', 'Okra (Ladyfinger)', 'Cauliflower', 'Cabbage', 'Carrots', 'Spinach', 'Radish', 'Turnips', 'Lettuce', 'Cucumbers', 'Pumpkins', 'Gourds', 'Watermelons', 'Muskmelons'],\n",
        "    \"Nuts\": ['Cashew nuts', 'Almonds', 'Pistachios', 'Walnuts', 'Betel nuts'],\n",
        "    \"Commercial crops\": ['Cotton', 'Jute', 'Rubber', 'Silk (from silkworms)'],\n",
        "    \"Stimulants\": ['Tobacco', 'Cocoa (for chocolate)', 'Opium poppy (for pharmaceuticals)'],\n",
        "}\n",
        "\n",
        "\n"
      ],
      "metadata": {
        "id": "auTRmalUUAub"
      },
      "execution_count": 13,
      "outputs": []
    },
    {
      "cell_type": "code",
      "source": [
        "crop_groups = {}\n",
        "for family, crops in families.items():\n",
        "    for crop in crops:\n",
        "        crop_groups[crop] = family"
      ],
      "metadata": {
        "id": "qXJVjQLCUkW7"
      },
      "execution_count": 27,
      "outputs": []
    },
    {
      "cell_type": "code",
      "source": [
        "print(crop_groups)"
      ],
      "metadata": {
        "colab": {
          "base_uri": "https://localhost:8080/"
        },
        "id": "xW8dxePcWS2w",
        "outputId": "a5dee04d-da8a-4b91-933e-20160c34f1ca"
      },
      "execution_count": 28,
      "outputs": [
        {
          "output_type": "stream",
          "name": "stdout",
          "text": [
            "{'rice': 'Cereals', 'Wheat': 'Cereals', 'Maize (corn)': 'Cereals', 'Sorghum': 'Cereals', 'Pearl millet': 'Cereals', 'Finger millet': 'Cereals', 'Foxtail millet': 'Cereals', 'Chickpeas': 'Pulses', 'Pigeon peas': 'Pulses', 'Lentils': 'Pulses', 'Mung beans': 'Pulses', 'Blackgram': 'Pulses', 'Soybean': 'Pulses', 'Groundnut': 'Oilseeds', 'Mustard': 'Oilseeds', 'Sesame': 'Oilseeds', 'Sunflower': 'Oilseeds', 'Sugarcane': 'Sugarcane', 'Tea': 'Beverages', 'Coffee': 'Beverages', 'Turmeric': 'Spices', 'Chili': 'Spices', 'Cumin': 'Spices', 'Coriander': 'Spices', 'Cardamom': 'Spices', 'Black pepper': 'Spices', 'Vanilla': 'Spices', 'Pomegranate': 'Fruits', 'Bananas': 'Fruits', 'Mangoes': 'Fruits', 'Grapes': 'Fruits', 'Apple': 'Fruits', 'Orange': 'Fruits', 'Papaya': 'Fruits', 'Coconut': 'Fruits', 'Guavas': 'Fruits', 'Papayas': 'Fruits', 'Apples': 'Fruits', 'Pears': 'Fruits', 'Strawberries': 'Fruits', 'Pineapples': 'Fruits', 'Berries': 'Fruits', 'Potatoes': 'Vegetables', 'Tomatoes': 'Vegetables', 'Onions': 'Vegetables', 'Garlic': 'Vegetables', 'Eggplant (Brinjal)': 'Vegetables', 'Okra (Ladyfinger)': 'Vegetables', 'Cauliflower': 'Vegetables', 'Cabbage': 'Vegetables', 'Carrots': 'Vegetables', 'Spinach': 'Vegetables', 'Radish': 'Vegetables', 'Turnips': 'Vegetables', 'Lettuce': 'Vegetables', 'Cucumbers': 'Vegetables', 'Pumpkins': 'Vegetables', 'Gourds': 'Vegetables', 'Watermelons': 'Vegetables', 'Muskmelons': 'Vegetables', 'Cashew nuts': 'Nuts', 'Almonds': 'Nuts', 'Pistachios': 'Nuts', 'Walnuts': 'Nuts', 'Betel nuts': 'Nuts', 'Cotton': 'Commercial crops', 'Jute': 'Commercial crops', 'Rubber': 'Commercial crops', 'Silk (from silkworms)': 'Commercial crops', 'Tobacco': 'Stimulants', 'Cocoa (for chocolate)': 'Stimulants', 'Opium poppy (for pharmaceuticals)': 'Stimulants'}\n"
          ]
        }
      ]
    },
    {
      "cell_type": "code",
      "source": [
        "combined_df['Family'] = combined_df['label'].map(crop_groups)"
      ],
      "metadata": {
        "id": "1vWpOV9mWWlO"
      },
      "execution_count": 29,
      "outputs": []
    },
    {
      "cell_type": "code",
      "source": [
        "combined_df.to_csv('Cropdata.csv', index=False)"
      ],
      "metadata": {
        "id": "QwSC914jWj7B"
      },
      "execution_count": 31,
      "outputs": []
    },
    {
      "cell_type": "code",
      "source": [
        "print(combined_df[['label', 'Family']])\n"
      ],
      "metadata": {
        "colab": {
          "base_uri": "https://localhost:8080/"
        },
        "id": "-ATFL4XzWeNQ",
        "outputId": "d7b4bc6c-9339-42c2-838f-5fd38518c0bb"
      },
      "execution_count": 30,
      "outputs": [
        {
          "output_type": "stream",
          "name": "stdout",
          "text": [
            "                      label            Family\n",
            "0                      rice           Cereals\n",
            "1                      rice           Cereals\n",
            "2                      rice           Cereals\n",
            "3                      rice           Cereals\n",
            "4                      rice           Cereals\n",
            "...                     ...               ...\n",
            "8595  Silk (from silkworms)  Commercial crops\n",
            "8596  Silk (from silkworms)  Commercial crops\n",
            "8597  Silk (from silkworms)  Commercial crops\n",
            "8598  Silk (from silkworms)  Commercial crops\n",
            "8599  Silk (from silkworms)  Commercial crops\n",
            "\n",
            "[8600 rows x 2 columns]\n"
          ]
        }
      ]
    },
    {
      "cell_type": "markdown",
      "source": [
        "### Adding Columns"
      ],
      "metadata": {
        "id": "evcuX3pSRadn"
      }
    },
    {
      "cell_type": "code",
      "source": [
        "# crop_state_mapping = {\n",
        "#     'Rice': ['West Bengal', 'Uttar Pradesh', 'Andhra Pradesh', 'Tamil Nadu', 'Punjab', 'Chhattisgarh', 'Assam', 'Odisha', 'Telangana', 'Bihar', 'Maharashtra'],\n",
        "#     'Wheat': ['Uttar Pradesh', 'Punjab', 'Haryana', 'Madhya Pradesh', 'Rajasthan', 'Uttarakhand', 'Bihar', 'Gujarat'],\n",
        "#     'Maize (corn)': ['Karnataka', 'Madhya Pradesh', 'Uttar Pradesh', 'Andhra Pradesh', 'Telangana', 'Maharashtra', 'Bihar', 'Rajasthan'],\n",
        "#     'Sorghum': ['Maharashtra', 'Karnataka', 'Madhya Pradesh', 'Andhra Pradesh', 'Telangana', 'Uttar Pradesh', 'Gujarat', 'Rajasthan'],\n",
        "#     'Pearl millet': ['Rajasthan', 'Uttar Pradesh', 'Gujarat', 'Haryana', 'Maharashtra', 'Madhya Pradesh', 'Telangana', 'Andhra Pradesh'],\n",
        "#     'Finger millet': ['Karnataka', 'Tamil Nadu', 'Maharashtra', 'Uttar Pradesh', 'Kerala', 'Telangana', 'Andhra Pradesh'],\n",
        "#     'Foxtail millet': ['Andhra Pradesh', 'Tamil Nadu', 'Karnataka', 'Telangana', 'Uttar Pradesh', 'Gujarat', 'Maharashtra'],\n",
        "#     'Chickpeas': ['Madhya Pradesh', 'Uttar Pradesh', 'Rajasthan', 'Maharashtra', 'Andhra Pradesh', 'Telangana', 'Karnataka'],\n",
        "#     'Pigeon peas': ['Madhya Pradesh', 'Maharashtra', 'Uttar Pradesh', 'Karnataka', 'Andhra Pradesh', 'Gujarat', 'Rajasthan', 'Telangana'],\n",
        "#     'Lentils': ['Madhya Pradesh', 'Uttar Pradesh', 'Rajasthan', 'Jharkhand', 'Punjab', 'Haryana', 'West Bengal'],\n",
        "#     'Mung beans': ['Uttar Pradesh', 'Rajasthan', 'Maharashtra', 'Gujarat', 'Karnataka', 'Andhra Pradesh', 'Telangana'],\n",
        "#     'Groundnut': ['Gujarat', 'Andhra Pradesh', 'Tamil Nadu', 'Karnataka', 'Maharashtra', 'Uttar Pradesh', 'Rajasthan'],\n",
        "#     'Soybean': ['Madhya Pradesh', 'Maharashtra', 'Rajasthan', 'Uttar Pradesh', 'Andhra Pradesh', 'Karnataka', 'Gujarat'],\n",
        "#     'Mustard': ['Rajasthan', 'Uttar Pradesh', 'Haryana', 'Madhya Pradesh', 'Punjab', 'Gujarat', 'Bihar'],\n",
        "#     'Sesame': ['Gujarat', 'Rajasthan', 'Uttar Pradesh', 'Madhya Pradesh', 'Andhra Pradesh', 'Telangana', 'Karnataka'],\n",
        "#     'Sunflower': ['Karnataka', 'Andhra Pradesh', 'Telangana', 'Maharashtra', 'Madhya Pradesh', 'Haryana', 'Rajasthan'],\n",
        "#     'Sugarcane': ['Uttar Pradesh', 'Maharashtra', 'Karnataka', 'Tamil Nadu', 'Andhra Pradesh', 'Telangana', 'Gujarat', 'Bihar'],\n",
        "#     'Cotton': ['Gujarat', 'Maharashtra', 'Andhra Pradesh', 'Telangana', 'Punjab', 'Haryana', 'Rajasthan'],\n",
        "#     'Jute': ['West Bengal', 'Bihar', 'Assam', 'Odisha', 'Andhra Pradesh', 'Uttar Pradesh'],\n",
        "#     'Tea': ['Assam', 'West Bengal', 'Tamil Nadu', 'Kerala', 'Tripura', 'Himachal Pradesh'],\n",
        "#     'Coffee': ['Karnataka', 'Kerala', 'Tamil Nadu', 'Andhra Pradesh'],\n",
        "#     'Turmeric': ['Andhra Pradesh', 'Telangana', 'Tamil Nadu', 'Odisha', 'Karnataka', 'Assam'],\n",
        "#     'Chili': ['Andhra Pradesh', 'Telangana', 'Karnataka', 'Maharashtra', 'Madhya Pradesh', 'West Bengal'],\n",
        "#     'Cumin': ['Rajasthan', 'Gujarat', 'Uttar Pradesh', 'Punjab', 'Haryana', 'Madhya Pradesh'],\n",
        "#     'Coriander': ['Rajasthan', 'Gujarat', 'Uttar Pradesh', 'Madhya Pradesh', 'Punjab', 'Haryana'],\n",
        "#     'Cardamom': ['Kerala', 'Karnataka', 'Tamil Nadu', 'Andhra Pradesh'],\n",
        "#     'Mangoes': ['Andhra Pradesh', 'Uttar Pradesh', 'Bihar', 'Telangana', 'Gujarat', 'Karnataka', 'Tamil Nadu', 'Maharashtra'],\n",
        "#     'Bananas': ['Maharashtra', 'Gujarat', 'Karnataka', 'Andhra Pradesh', 'Tamil Nadu', 'Uttar Pradesh', 'Bihar', 'Assam'],\n",
        "#     'Citrus fruits': ['Maharashtra', 'Andhra Pradesh', 'Tamil Nadu', 'Uttar Pradesh', 'Madhya Pradesh', 'Gujarat', 'Karnataka'],\n",
        "#     'Potatoes': ['Uttar Pradesh', 'Punjab', 'West Bengal', 'Bihar', 'Gujarat', 'Madhya Pradesh', 'Himachal Pradesh', 'Assam'],\n",
        "#     'Tomatoes': ['Andhra Pradesh', 'Telangana', 'Karnataka', 'Madhya Pradesh', 'West Bengal', 'Uttar Pradesh', 'Gujarat', 'Maharashtra'],\n",
        "#     'Onions': ['Maharashtra', 'Madhya Pradesh', 'Karnataka', 'Gujarat', 'Rajasthan', 'Uttar Pradesh', 'Andhra Pradesh', 'Bihar'],\n",
        "#     'Garlic': ['Madhya Pradesh', 'Gujarat', 'Rajasthan', 'Maharashtra', 'Uttar Pradesh', 'Haryana', 'Punjab', 'Karnataka'],\n",
        "#     'Eggplant (Brinjal)': ['Uttar Pradesh', 'West Bengal', 'Bihar', 'Andhra Pradesh', 'Maharashtra', 'Odisha', 'Karnataka'],\n",
        "#     'Okra (Ladyfinger)': ['Andhra Pradesh', 'Maharashtra', 'Gujarat', 'Uttar Pradesh', 'Bihar', 'Tamil Nadu', 'Karnataka', 'West Bengal'],\n",
        "#     'Cauliflower': ['Uttar Pradesh', 'Maharashtra', 'Gujarat', 'Haryana', 'Punjab', 'West Bengal', 'Bihar', 'Karnataka'],\n",
        "#     'Cabbage': ['Uttar Pradesh', 'Maharashtra', 'Bihar', 'Gujarat', 'Karnataka', 'Punjab', 'Haryana', 'West Bengal'],\n",
        "#     'Carrots': ['Uttar Pradesh', 'Maharashtra', 'Gujarat', 'Bihar', 'Karnataka', 'Punjab', 'Haryana', 'West Bengal'],\n",
        "#     'Spinach': ['Uttar Pradesh', 'Maharashtra', 'Gujarat', 'Bihar', 'Karnataka', 'Punjab', 'Haryana', 'West Bengal'],\n",
        "#     'Radish': ['Uttar Pradesh', 'Maharashtra', 'Gujarat', 'Bihar', 'Karnataka', 'Punjab', 'Haryana', 'West Bengal'],\n",
        "#     'Turnips': ['Uttar Pradesh', 'Maharashtra', 'Gujarat', 'Bihar', 'Karnataka', 'Punjab', 'Haryana', 'West Bengal'],\n",
        "#     'Lettuce': ['Uttar Pradesh', 'Maharashtra', 'Gujarat', 'Bihar', 'Karnataka', 'Punjab', 'Haryana', 'West Bengal'],\n",
        "#     'Cucumbers': ['Uttar Pradesh', 'Maharashtra', 'Gujarat', 'Bihar', 'Karnataka', 'Punjab', 'Haryana', 'West Bengal'],\n",
        "#     'Pumpkins': ['Uttar Pradesh', 'Maharashtra', 'Gujarat', 'Bihar', 'Karnataka', 'Punjab', 'Haryana', 'West Bengal'],\n",
        "#     'Gourds': ['Uttar Pradesh', 'Maharashtra', 'Gujarat', 'Bihar', 'Karnataka', 'Punjab', 'Haryana', 'West Bengal'],\n",
        "#     'Watermelons': ['Uttar Pradesh', 'Maharashtra', 'Karnataka', 'Andhra Pradesh', 'Tamil Nadu', 'Bihar', 'Gujarat', 'Punjab'],\n",
        "#     'Muskmelons': ['Uttar Pradesh', 'Maharashtra', 'Karnataka', 'Andhra Pradesh', 'Tamil Nadu', 'Bihar', 'Gujarat', 'Punjab'],\n",
        "#     'Papayas': ['Andhra Pradesh', 'Uttar Pradesh', 'Bihar', 'West Bengal', 'Maharashtra', 'Gujarat', 'Karnataka', 'Tamil Nadu'],\n",
        "#     'Guavas': ['Uttar Pradesh', 'Maharashtra', 'Gujarat', 'Karnataka', 'Tamil Nadu', 'Andhra Pradesh', 'Bihar', 'Punjab'],\n",
        "#     'Apples': ['Jammu and Kashmir', 'Himachal Pradesh', 'Uttarakhand', 'Arunachal Pradesh', 'Nagaland', 'Meghalaya', 'Manipur', 'Uttar Pradesh'],\n",
        "#     'Pears': ['Himachal Pradesh', 'Uttarakhand', 'Jammu and Kashmir', 'Arunachal Pradesh', 'Nagaland', 'Meghalaya', 'Manipur', 'Uttar Pradesh'],\n",
        "#     'Grapes': ['Maharashtra', 'Karnataka', 'Andhra Pradesh', 'Tamil Nadu', 'Punjab', 'Haryana', 'Uttar Pradesh', 'Himachal Pradesh'],\n",
        "#     'Strawberries': ['Maharashtra', 'Uttarakhand', 'Himachal Pradesh', 'Jammu and Kashmir', 'Arunachal Pradesh', 'Nagaland', 'Meghalaya', 'Manipur'],\n",
        "#     'Pomegranates': ['Maharashtra', 'Andhra Pradesh', 'Karnataka', 'Gujarat', 'Tamil Nadu', 'Uttar Pradesh', 'Haryana'],\n",
        "#     'Pineapples': ['Assam', 'Meghalaya', 'West Bengal', 'Tripura', 'Manipur', 'Nagaland', 'Mizoram', 'Uttarakhand'],\n",
        "#     'Berries': ['Uttarakhand', 'Himachal Pradesh', 'Jammu and Kashmir', 'Arunachal Pradesh', 'Nagaland', 'Meghalaya', 'Manipur', 'Uttar Pradesh'],\n",
        "#     'Cashew nuts': ['Goa', 'Kerala', 'Maharashtra', 'Andhra Pradesh', 'Odisha', 'Karnataka', 'Tamil Nadu', 'West Bengal'],\n",
        "#     'Almonds': ['Jammu and Kashmir', 'Himachal Pradesh', 'Uttarakhand', 'Arunachal Pradesh', 'Nagaland', 'Meghalaya', 'Manipur', 'Uttar Pradesh'],\n",
        "#     'Pistachios': ['Jammu and Kashmir', 'Himachal Pradesh', 'Uttarakhand', 'Arunachal Pradesh', 'Nagaland', 'Meghalaya', 'Manipur', 'Uttar Pradesh'],\n",
        "#     'Walnuts': ['Jammu and Kashmir', 'Himachal Pradesh', 'Uttarakhand', 'Arunachal Pradesh', 'Nagaland', 'Meghalaya', 'Manipur', 'Uttar Pradesh'],\n",
        "#     'Coconut': ['Kerala', 'Tamil Nadu', 'Karnataka', 'Andhra Pradesh', 'Odisha', 'West Bengal', 'Maharashtra', 'Goa'],\n",
        "#     'Betel nuts': ['Karnataka', 'Kerala', 'Andhra Pradesh', 'Assam', 'Odisha', 'West Bengal', 'Bihar', 'Uttar Pradesh'],\n",
        "#     'Saffron': ['Jammu and Kashmir', 'Himachal Pradesh', 'Uttarakhand', 'Arunachal Pradesh', 'Nagaland', 'Meghalaya', 'Manipur', 'Uttar Pradesh'],\n",
        "#     'Black pepper': ['Kerala', 'Karnataka', 'Tamil Nadu', 'Andhra Pradesh', 'Assam', 'Odisha', 'West Bengal', 'Maharashtra'],\n",
        "#     'Vanilla': ['Kerala', 'Tamil Nadu', 'Karnataka', 'Andhra Pradesh', 'Assam', 'Odisha', 'West Bengal', 'Maharashtra'],\n",
        "#     'Cocoa (for chocolate)': ['Kerala', 'Karnataka', 'Andhra Pradesh', 'Tamil Nadu', 'Odisha', 'Assam', 'West Bengal', 'Uttar Pradesh'],\n",
        "#     'Tobacco': ['Andhra Pradesh', 'Gujarat', 'Karnataka', 'Maharashtra', 'Uttar Pradesh', 'West Bengal', 'Bihar', 'Tamil Nadu'],\n",
        "#     'Opium poppy (for pharmaceuticals)': ['Madhya Pradesh', 'Uttar Pradesh', 'Rajasthan', 'Himachal Pradesh', 'Arunachal Pradesh', 'Uttarakhand', 'Jammu and Kashmir'],\n",
        "#     'Rubber': ['Kerala', 'Karnataka', 'Tamil Nadu', 'Andhra Pradesh', 'Assam', 'Odisha', 'West Bengal', 'Maharashtra'],\n",
        "#     'Silk (from silkworms)': ['Karnataka', 'Andhra Pradesh', 'Tamil Nadu', 'Assam', 'Jammu and Kashmir', 'Uttarakhand', 'Himachal Pradesh', 'West Bengal']\n",
        "# }\n"
      ],
      "metadata": {
        "id": "Rhs_6QpHtXkk"
      },
      "execution_count": 14,
      "outputs": []
    },
    {
      "cell_type": "code",
      "source": [
        "# # Convert all crop names to lowercase for consistency\n",
        "# combined_df['label'] = combined_df['label'].str.lower()\n",
        "\n",
        "# # Create an empty list to store state grown values\n",
        "# state_grown_list = []\n",
        "\n",
        "# # Iterate over each crop in the combined_df\n",
        "# for crop in combined_df['label']:\n",
        "#     # Check if the crop is present in the crop_state_mapping\n",
        "#     if crop in crop_state_mapping:\n",
        "#         # Get the states where the crop is grown and append it to the list\n",
        "#         state_grown_list.append(crop_state_mapping[crop])\n",
        "#     else:\n",
        "#         # If the crop is not found in the mapping, set the state grown value as \"Unknown\"\n",
        "#         state_grown_list.append(\"Unknown\")\n",
        "\n",
        "# # Add the state grown list as a new column to the combined_df\n",
        "# combined_df['state_grown'] = state_grown_list\n",
        "\n",
        "# # Display the updated combined_df\n",
        "# print(combined_df.head(-200))\n"
      ],
      "metadata": {
        "id": "Twx_oOS3rG8L"
      },
      "execution_count": 15,
      "outputs": []
    },
    {
      "cell_type": "code",
      "source": [
        "# def get_states(crop):\n",
        "#     crop = crop.lower().strip().capitalize()\n",
        "#     if crop in crop_state_mapping:\n",
        "#         return crop_state_mapping[crop]\n",
        "#     else:\n",
        "#         return 'Unknown'"
      ],
      "metadata": {
        "id": "5MPcfelYtcuP"
      },
      "execution_count": 16,
      "outputs": []
    },
    {
      "cell_type": "code",
      "source": [
        "# combined_df['States_grown'] = combined_df['label'].apply(get_states)\n",
        "\n",
        "# print(combined_df.head())"
      ],
      "metadata": {
        "id": "m6D6k7sHwsRc"
      },
      "execution_count": 17,
      "outputs": []
    },
    {
      "cell_type": "code",
      "source": [
        "# combined_df.to_csv('Cropdata.csv', index=False)"
      ],
      "metadata": {
        "id": "cYq0KLc4wvoy"
      },
      "execution_count": 18,
      "outputs": []
    },
    {
      "cell_type": "markdown",
      "source": [],
      "metadata": {
        "id": "7MxfWLBGSlye"
      }
    },
    {
      "cell_type": "code",
      "source": [
        "# crop_soil_mapping = {\n",
        "#     'rice': 'Alluvial Soil',\n",
        "#     'maize': 'Loamy Soil',\n",
        "#     'chickpea': 'Sandy Loam Soil',\n",
        "#     'kidneybeans': 'Loamy Soil',\n",
        "#     'pigeonpeas': 'Sandy Soil',\n",
        "#     'mothbeans': 'Loamy Soil',\n",
        "#     'mungbean': 'Sandy Soil',\n",
        "#     'blackgram': 'Black Soil',\n",
        "#     'lentil': 'Loamy Soil',\n",
        "#     'pomegranate': 'Loamy Soil',\n",
        "#     'banana': 'Loamy Soil',\n",
        "#     'mango': 'Laterite Soil',\n",
        "#     'grapes': 'Sandy Soil',\n",
        "#     'watermelon': 'Sandy Loam Soil',\n",
        "#     'muskmelon': 'Sandy Soil',\n",
        "#     'apple': 'Loamy Soil',\n",
        "#     'orange': 'Sandy Soil',\n",
        "#     'papaya': 'Loamy Soil',\n",
        "#     'coconut': 'Laterite Soil',\n",
        "#     'cotton': 'Black Soil',\n",
        "#     'jute': 'Alluvial Soil',\n",
        "#     'coffee': 'Laterite Soil',\n",
        "#     'Wheat': 'Loamy Soil',\n",
        "#     'Maize (corn)': 'Loamy Soil',\n",
        "#     'Sorghum': 'Sandy Loam Soil',\n",
        "#     'Pearl millet': 'Sandy Soil',\n",
        "#     'Finger millet': 'Loamy Soil',\n",
        "#     'Foxtail millet': 'Sandy Loam Soil',\n",
        "#     'Chickpeas': 'Sandy Loam Soil',\n",
        "#     'Pigeon peas': 'Sandy Soil',\n",
        "#     'Lentils': 'Loamy Soil',\n",
        "#     'Mung beans': 'Sandy Soil',\n",
        "#     'Groundnut': 'Sandy Loam Soil',\n",
        "#     'Soybean': 'Loamy Soil',\n",
        "#     'Mustard': 'Loamy Soil',\n",
        "#     'Sesame': 'Sandy Soil',\n",
        "#     'Sunflower': 'Sandy Loam Soil',\n",
        "#     'Sugarcane': 'Alluvial Soil',\n",
        "#     'Tea': 'Laterite Soil',\n",
        "#     'Turmeric': 'Loamy Soil',\n",
        "#     'Chili': 'Sandy Loam Soil',\n",
        "#     'Cumin': 'Sandy Soil',\n",
        "#     'Coriander': 'Loamy Soil',\n",
        "#     'Cardamom': 'Laterite Soil',\n",
        "#     'Mangoes': 'Laterite Soil',\n",
        "#     'Bananas': 'Loamy Soil',\n",
        "#     'Citrus fruits': 'Sandy Soil',\n",
        "#     'Potatoes': 'Sandy Loam Soil',\n",
        "#     'Tomatoes': 'Loamy Soil',\n",
        "#     'Onions': 'Loamy Soil',\n",
        "#     'Garlic': 'Loamy Soil',\n",
        "#     'Eggplant (Brinjal)': 'Loamy Soil',\n",
        "#     'Okra (Ladyfinger)': 'Loamy Soil',\n",
        "#     'Cauliflower': 'Sandy Loam Soil',\n",
        "#     'Cabbage': 'Sandy Loam Soil',\n",
        "#     'Carrots': 'Sandy Loam Soil',\n",
        "#     'Spinach': 'Loamy Soil',\n",
        "#     'Radish': 'Loamy Soil',\n",
        "#     'Turnips': 'Loamy Soil',\n",
        "#     'Lettuce': 'Loamy Soil',\n",
        "#     'Cucumbers': 'Sandy Loam Soil',\n",
        "#     'Pumpkins': 'Sandy Loam Soil',\n",
        "#     'Gourds': 'Sandy Loam Soil',\n",
        "#     'Watermelons': 'Sandy Soil',\n",
        "#     'Muskmelons': 'Sandy Soil',\n",
        "#     'Papayas': 'Loamy Soil',\n",
        "#     'Guavas': 'Sandy Soil',\n",
        "#     'Apples': 'Loamy Soil',\n",
        "#     'Pears': 'Loamy Soil',\n",
        "#     'Strawberries': 'Loamy Soil',\n",
        "#     'Pomegranates': 'Loamy Soil',\n",
        "#     'Pineapples': 'Sandy Soil',\n",
        "#     'Berries': 'Loamy Soil',\n",
        "#     'Cashew nuts': 'Laterite Soil',\n",
        "#     'Almonds': 'Sandy Soil',\n",
        "#     'Pistachios': 'Sandy Soil',\n",
        "#     'Walnuts': 'Loamy Soil',\n",
        "#     'Betel nuts': 'Loamy Soil',\n",
        "#     'Saffron': 'Loamy Soil',\n",
        "#     'Black pepper': 'Loamy Soil',\n",
        "#     'Vanilla': 'Laterite Soil',\n",
        "#     'Cocoa (for chocolate)': 'Loamy Soil',\n",
        "#     'Tobacco': 'Sandy Loam Soil',\n",
        "#     'Opium poppy (for pharmaceuticals)': 'Loamy Soil',\n",
        "#     'Rubber': 'Laterite Soil',\n",
        "#     'Silk (from silkworms)': 'Loamy Soil'\n",
        "# }"
      ],
      "metadata": {
        "id": "rEpvIAzzw_ED"
      },
      "execution_count": 19,
      "outputs": []
    },
    {
      "cell_type": "code",
      "source": [
        "# combined_df['soil_type'] = combined_df['label'].apply(lambda x: crop_soil_mapping.get(x.lower(), 'Unknown'))\n",
        "\n",
        "# print(combined_df.head())"
      ],
      "metadata": {
        "id": "6PUK-ztCygA4"
      },
      "execution_count": 20,
      "outputs": []
    },
    {
      "cell_type": "code",
      "source": [
        "# combined_df.to_csv('Cropdata.csv', index=False)"
      ],
      "metadata": {
        "id": "7Q77cPUryoDc"
      },
      "execution_count": 21,
      "outputs": []
    },
    {
      "cell_type": "code",
      "source": [
        "# crop_weed_pest_mapping = {\n",
        "#     'rice': 'Herbicides, manual weeding, use of bio-control agents for pests',\n",
        "#     'maize': 'Herbicides, crop rotation, use of resistant varieties for pests',\n",
        "#     'chickpea': 'Crop rotation, intercropping, biological control for pests',\n",
        "#     'kidneybeans': 'Crop rotation, intercropping, biological control for pests',\n",
        "#     'pigeonpeas': 'Crop rotation, intercropping, biological control for pests',\n",
        "#     'mothbeans': 'Crop rotation, intercropping, biological control for pests',\n",
        "#     'mungbean': 'Crop rotation, intercropping, biological control for pests',\n",
        "#     'blackgram': 'Crop rotation, intercropping, biological control for pests',\n",
        "#     'lentil': 'Crop rotation, intercropping, biological control for pests',\n",
        "#     'pomegranate': 'Use of pheromone traps, biological control for pests',\n",
        "#     'banana': 'Use of resistant varieties, biological control for pests',\n",
        "#     'mango': 'Pruning, use of insecticidal soaps, biological control for pests',\n",
        "#     'grapes': 'Pruning, use of insecticidal soaps, biological control for pests',\n",
        "#     'watermelon': 'Crop rotation, intercropping, biological control for pests',\n",
        "#     'muskmelon': 'Crop rotation, intercropping, biological control for pests',\n",
        "#     'apple': 'Pruning, use of insecticidal soaps, biological control for pests',\n",
        "#     'orange': 'Pruning, use of insecticidal soaps, biological control for pests',\n",
        "#     'papaya': 'Crop rotation, intercropping, biological control for pests',\n",
        "#     'coconut': 'Manual removal of weeds, use of bio-control agents for pests',\n",
        "#     'cotton': 'Herbicides, crop rotation, use of resistant varieties for pests',\n",
        "#     'jute': 'Herbicides, manual weeding, use of bio-control agents for pests',\n",
        "#     'coffee': 'Pruning, use of insecticidal soaps, biological control for pests',\n",
        "#     'Wheat': 'Crop rotation, intercropping, biological control for pests',\n",
        "#     'Maize (corn)': 'Herbicides, crop rotation, use of resistant varieties for pests',\n",
        "#     'Sorghum': 'Herbicides, crop rotation, use of resistant varieties for pests',\n",
        "#     'Pearl millet': 'Herbicides, crop rotation, use of resistant varieties for pests',\n",
        "#     'Finger millet': 'Herbicides, manual weeding, use of bio-control agents for pests',\n",
        "#     'Foxtail millet': 'Herbicides, manual weeding, use of bio-control agents for pests',\n",
        "#     'Chickpeas': 'Crop rotation, intercropping, biological control for pests',\n",
        "#     'Pigeon peas': 'Crop rotation, intercropping, biological control for pests',\n",
        "#     'Lentils': 'Crop rotation, intercropping, biological control for pests',\n",
        "#     'Mung beans': 'Crop rotation, intercropping, biological control for pests',\n",
        "#     'Groundnut': 'Herbicides, crop rotation, use of resistant varieties for pests',\n",
        "#     'Soybean': 'Herbicides, crop rotation, use of resistant varieties for pests',\n",
        "#     'Mustard': 'Herbicides, manual weeding, use of bio-control agents for pests',\n",
        "#     'Sesame': 'Herbicides, manual weeding, use of bio-control agents for pests',\n",
        "#     'Sunflower': 'Herbicides, crop rotation, use of resistant varieties for pests',\n",
        "#     'Sugarcane': 'Herbicides, manual weeding, use of bio-control agents for pests',\n",
        "#     'Tea': 'Pruning, use of insecticidal soaps, biological control for pests',\n",
        "#     'Turmeric': 'Herbicides, manual weeding, use of bio-control agents for pests',\n",
        "#     'Chili': 'Herbicides, manual weeding, use of bio-control agents for pests',\n",
        "#     'Cumin': 'Herbicides, manual weeding, use of bio-control agents for pests',\n",
        "#     'Coriander': 'Herbicides, manual weeding, use of bio-control agents for pests',\n",
        "#     'Cardamom': 'Pruning, use of insecticidal soaps, biological control for pests',\n",
        "#     'Mangoes': 'Pruning, use of insecticidal soaps, biological control for pests',\n",
        "#     'Bananas': 'Use of resistant varieties, biological control for pests',\n",
        "#     'Citrus fruits': 'Pruning, use of insecticidal soaps, biological control for pests',\n",
        "#     'Potatoes': 'Crop rotation, intercropping, biological control for pests',\n",
        "#     'Tomatoes': 'Crop rotation, intercropping, biological control for pests',\n",
        "#     'Onions': 'Crop rotation, intercropping, biological control for pests',\n",
        "#     'Garlic': 'Crop rotation, intercropping, biological control for pests',\n",
        "#     'Eggplant (Brinjal)': 'Crop rotation, intercropping, biological control for pests',\n",
        "#     'Okra (Ladyfinger)': 'Crop rotation, intercropping, biological control for pests',\n",
        "#     'Cauliflower': 'Crop rotation, intercropping, biological control for pests',\n",
        "#     'Cabbage': 'Crop rotation, intercropping, biological control for pests',\n",
        "#     'Carrots': 'Crop rotation, intercropping, biological control for pests',\n",
        "#     'Spinach': 'Crop rotation, intercropping, biological control for pests',\n",
        "#     'Radish': 'Crop rotation, intercropping, biological control for pests',\n",
        "#     'Turnips': 'Crop rotation, intercropping, biological control for pests',\n",
        "#     'Lettuce': 'Crop rotation, intercropping, biological control for pests',\n",
        "#     'Cucumbers': 'Crop rotation, intercropping, biological control for pests',\n",
        "#     'Pumpkins': 'Crop rotation, intercropping, biological control for pests',\n",
        "#     'Gourds': 'Crop rotation, intercropping, biological control for pests',\n",
        "#     'Watermelons': 'Crop rotation, intercropping, biological control for pests',\n",
        "#     'Muskmelons': 'Crop rotation, intercropping, biological control for pests',\n",
        "#     'Papayas': 'Crop rotation, intercropping, biological control for pests',\n",
        "#     'Guavas': 'Pruning, use of insecticidal soaps, biological control for pests',\n",
        "#     'Apples': 'Pruning, use of insecticidal soaps, biological control for pests',\n",
        "#     'Pears': 'Pruning, use of insecticidal soaps, biological control for pests',\n",
        "#     'Strawberries': 'Pruning, use of insecticidal soaps, biological control for pests',\n",
        "#     'Pineapples': 'Pruning, use of insecticidal soaps, biological control for pests',\n",
        "#     'Berries': 'Pruning, use of insecticidal soaps, biological control for pests',\n",
        "#     'Cashew nuts': 'Pruning, use of insecticidal soaps, biological control for pests',\n",
        "#     'Almonds': 'Pruning, use of insecticidal soaps, biological control for pests',\n",
        "#     'Pistachios': 'Pruning, use of insecticidal soaps, biological control for pests',\n",
        "#     'Walnuts': 'Pruning, use of insecticidal soaps, biological control for pests',\n",
        "#     'Betel nuts': 'Pruning, use of insecticidal soaps, biological control for pests',\n",
        "#     'Saffron': 'Pruning, use of insecticidal soaps, biological control for pests',\n",
        "#     'Black pepper': 'Pruning, use of insecticidal soaps, biological control for pests',\n",
        "#     'Vanilla': 'Pruning, use of insecticidal soaps, biological control for pests',\n",
        "#     'Cocoa (for chocolate)': 'Pruning, use of insecticidal soaps, biological control for pests',\n",
        "#     'Tobacco': 'Herbicides, manual weeding, use of bio-control agents for pests',\n",
        "#     'Opium poppy (for pharmaceuticals)': 'Herbicides, manual weeding, use of bio-control agents for pests',\n",
        "#     'Rubber': 'Pruning, use of insecticidal soaps, biological control for pests',\n",
        "#     'Silk (from silkworms)': 'Pruning, use of insecticidal soaps, biological control for pests'\n",
        "# }\n"
      ],
      "metadata": {
        "id": "SMa9iq5qzIvf"
      },
      "execution_count": 22,
      "outputs": []
    },
    {
      "cell_type": "code",
      "source": [
        "# combined_df['Weed and pest control'] = combined_df['label'].map(crop_weed_pest_mapping)\n",
        "\n",
        "# # Save the DataFrame to a CSV file\n",
        "# combined_df.to_csv('Cropdata.csv', index=False)"
      ],
      "metadata": {
        "id": "0C3uJ8QqBmzs"
      },
      "execution_count": 23,
      "outputs": []
    },
    {
      "cell_type": "code",
      "source": [
        "# combined_df.to_csv('Cropdata.csv', index=False)"
      ],
      "metadata": {
        "id": "xAA9ZmSJCXJi"
      },
      "execution_count": 24,
      "outputs": []
    },
    {
      "cell_type": "code",
      "source": [
        "# column_to_drop = 'soil_type'\n",
        "# df.drop(column_to_drop, axis=1, inplace=True)\n",
        "\n",
        "# # Save the modified DataFrame to a new CSV file\n",
        "# combined_df.to_csv('Cropdata.csv', index=False)\n"
      ],
      "metadata": {
        "id": "GGf2RBUTORr8"
      },
      "execution_count": 25,
      "outputs": []
    },
    {
      "cell_type": "code",
      "source": [
        "# print(combined_df.columns)\n"
      ],
      "metadata": {
        "id": "TxM2SlcJP_Mi"
      },
      "execution_count": 26,
      "outputs": []
    },
    {
      "cell_type": "code",
      "source": [],
      "metadata": {
        "id": "egePCCqDQVi7"
      },
      "execution_count": 26,
      "outputs": []
    }
  ]
}